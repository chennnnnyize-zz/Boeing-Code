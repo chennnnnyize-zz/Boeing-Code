{
 "cells": [
  {
   "cell_type": "code",
   "execution_count": 20,
   "metadata": {
    "collapsed": true
   },
   "outputs": [],
   "source": [
    "import re\n",
    "import csv\n",
    "import numpy as np"
   ]
  },
  {
   "cell_type": "code",
   "execution_count": 3,
   "metadata": {
    "collapsed": false
   },
   "outputs": [],
   "source": [
    "p = re.compile( r'[0-9a-zA-Z\\-]+(?= \\()') "
   ]
  },
  {
   "cell_type": "code",
   "execution_count": 4,
   "metadata": {
    "collapsed": true
   },
   "outputs": [],
   "source": [
    "process_name = []\n",
    "with open('sysdig.txt') as inputfile:\n",
    "    for line in inputfile:\n",
    "        process_name.extend(p.findall(line))"
   ]
  },
  {
   "cell_type": "code",
   "execution_count": 6,
   "metadata": {
    "collapsed": true
   },
   "outputs": [],
   "source": [
    "process_name_dict = list(set(process_name))"
   ]
  },
  {
   "cell_type": "code",
   "execution_count": 7,
   "metadata": {
    "collapsed": true
   },
   "outputs": [],
   "source": [
    "process_name_dict.sort(key = process_name.index)"
   ]
  },
  {
   "cell_type": "code",
   "execution_count": 11,
   "metadata": {
    "collapsed": true
   },
   "outputs": [],
   "source": [
    "process_name_2_id = [process_name_dict.index(process_name[ii]) for ii in range(len(process_name))]"
   ]
  },
  {
   "cell_type": "code",
   "execution_count": 32,
   "metadata": {
    "collapsed": false
   },
   "outputs": [
    {
     "data": {
      "text/plain": [
       "['Xorg',\n",
       " 'compiz',\n",
       " 'sysdig',\n",
       " 'java',\n",
       " 'QXcbEventReader',\n",
       " 'fcitx',\n",
       " 'wireshark',\n",
       " 'at-spi2-registr',\n",
       " 'dbus-daemon',\n",
       " 'gdbus',\n",
       " 'sogou-qimpanel',\n",
       " 'Timer',\n",
       " 'Web',\n",
       " 'JS',\n",
       " 'ntfs',\n",
       " 'nautilus',\n",
       " 'teamviewerd',\n",
       " 'acpid',\n",
       " 'syndaemon',\n",
       " 'firefox',\n",
       " 'indicator-print',\n",
       " 'update-notifier',\n",
       " 'gnome-software',\n",
       " 'polkit-gnome-au',\n",
       " 'unity-fallback-',\n",
       " 'nm-applet',\n",
       " 'indicator-keybo',\n",
       " 'unity-panel-ser',\n",
       " 'bamfdaemon',\n",
       " 'notify-osd',\n",
       " 'unity-settings-']"
      ]
     },
     "execution_count": 32,
     "metadata": {},
     "output_type": "execute_result"
    }
   ],
   "source": [
    "process_name_dict"
   ]
  },
  {
   "cell_type": "code",
   "execution_count": null,
   "metadata": {
    "collapsed": true
   },
   "outputs": [],
   "source": [
    "tempppp = np.array(process_name_2_id)"
   ]
  },
  {
   "cell_type": "code",
   "execution_count": 30,
   "metadata": {
    "collapsed": false
   },
   "outputs": [],
   "source": [
    "np.savetxt(\"process_name_dictionary.csv\", tempppp, delimiter=\",\")"
   ]
  },
  {
   "cell_type": "code",
   "execution_count": 17,
   "metadata": {
    "collapsed": true
   },
   "outputs": [],
   "source": [
    "with open(\"dict_process_name.txt\", \"w\") as text_file:\n",
    "    for ii in range(len(process_name_dict)):\n",
    "        text_file.writelines(process_name_dict[ii]+'\\n')"
   ]
  },
  {
   "cell_type": "code",
   "execution_count": null,
   "metadata": {
    "collapsed": true
   },
   "outputs": [],
   "source": [
    "csvfile = file('process_name_dictionary.csv', 'wb')\n",
    "writer = csv.writer(csvfile)\n",
    "writer.writerows(tempppp.T)"
   ]
  },
  {
   "cell_type": "code",
   "execution_count": null,
   "metadata": {
    "collapsed": true
   },
   "outputs": [],
   "source": [
    "\n",
    "\n",
    "\n",
    "\n",
    "\n",
    "\n",
    "\n",
    "\n"
   ]
  },
  {
   "cell_type": "code",
   "execution_count": 98,
   "metadata": {
    "collapsed": false
   },
   "outputs": [],
   "source": [
    "event_name = []\n",
    "with open('dict_events.txt') as inputfile:\n",
    "    for line in inputfile:\n",
    "        event_name.extend([line])"
   ]
  },
  {
   "cell_type": "code",
   "execution_count": 99,
   "metadata": {
    "collapsed": true
   },
   "outputs": [],
   "source": [
    "pattern2 = re.compile(r'[^a-zA-Z]')"
   ]
  },
  {
   "cell_type": "code",
   "execution_count": 116,
   "metadata": {
    "collapsed": true
   },
   "outputs": [],
   "source": [
    "process_name_alph = []\n",
    "for ii in range(len(process_name_dict)):\n",
    "    process_name_alph.extend([re.sub(pattern2, '', process_name_dict[ii])])"
   ]
  },
  {
   "cell_type": "code",
   "execution_count": 117,
   "metadata": {
    "collapsed": false
   },
   "outputs": [
    {
     "data": {
      "text/plain": [
       "31"
      ]
     },
     "execution_count": 117,
     "metadata": {},
     "output_type": "execute_result"
    }
   ],
   "source": [
    "len(process_name_alph)"
   ]
  },
  {
   "cell_type": "code",
   "execution_count": 113,
   "metadata": {
    "collapsed": false
   },
   "outputs": [
    {
     "data": {
      "text/plain": [
       "'sogouqimpanel'"
      ]
     },
     "execution_count": 113,
     "metadata": {},
     "output_type": "execute_result"
    }
   ],
   "source": [
    "re.sub(pattern2, '', process_name_dict[10])"
   ]
  },
  {
   "cell_type": "code",
   "execution_count": 101,
   "metadata": {
    "collapsed": true
   },
   "outputs": [],
   "source": [
    "event_name_alph = []\n",
    "for ii in range(len(event_name)):\n",
    "    event_name_alph.extend([re.sub(pattern2, '', event_name[ii][0:15])])"
   ]
  },
  {
   "cell_type": "code",
   "execution_count": 102,
   "metadata": {
    "collapsed": true
   },
   "outputs": [],
   "source": [
    "event_name_alph[-7] = 'inplace'"
   ]
  },
  {
   "cell_type": "code",
   "execution_count": 104,
   "metadata": {
    "collapsed": false
   },
   "outputs": [],
   "source": [
    "graph_format = []\n",
    "for ii in range(len(process_name_alph)):\n",
    "    graph_format.extend(['CREATE (%s:process {name: \"%s\"})' % (process_name_alph[ii], process_name_alph[ii])])"
   ]
  },
  {
   "cell_type": "code",
   "execution_count": 79,
   "metadata": {
    "collapsed": true
   },
   "outputs": [],
   "source": [
    "for ii in range(len(event_name)):\n",
    "    graph_format.extend(['CREATE (%s:event {name: \"%s\"})' % (event_name_alph[ii], event_name_alph[ii])])"
   ]
  },
  {
   "cell_type": "code",
   "execution_count": null,
   "metadata": {
    "collapsed": true
   },
   "outputs": [],
   "source": [
    "'CREATE (SG)-[:W {name:\"write\"}]->(SS1)'"
   ]
  },
  {
   "cell_type": "code",
   "execution_count": 82,
   "metadata": {
    "collapsed": false
   },
   "outputs": [],
   "source": [
    "events_id = np.genfromtxt('events_dictionary.csv', delimiter=',')"
   ]
  },
  {
   "cell_type": "code",
   "execution_count": 91,
   "metadata": {
    "collapsed": true
   },
   "outputs": [],
   "source": [
    "for ii in range(len(event_name)):\n",
    "    graph_format.extend(['CREATE (%s)-[:W {name:\"no_name\"}]->(%s)' \n",
    "                         %(process_name_alph[process_name_2_id[ii]], event_name_alph[int(events_id[ii])])])"
   ]
  },
  {
   "cell_type": "code",
   "execution_count": null,
   "metadata": {
    "collapsed": true
   },
   "outputs": [],
   "source": [
    "graph_format"
   ]
  },
  {
   "cell_type": "code",
   "execution_count": 93,
   "metadata": {
    "collapsed": false
   },
   "outputs": [],
   "source": [
    "with open(\"neo4j.txt\", \"w\") as text_file:\n",
    "    for ii in range(len(graph_format)):\n",
    "        text_file.writelines(graph_format[ii]+'\\n')"
   ]
  },
  {
   "cell_type": "code",
   "execution_count": null,
   "metadata": {
    "collapsed": true
   },
   "outputs": [],
   "source": []
  }
 ],
 "metadata": {
  "kernelspec": {
   "display_name": "Python 2",
   "language": "python",
   "name": "python2"
  },
  "language_info": {
   "codemirror_mode": {
    "name": "ipython",
    "version": 2
   },
   "file_extension": ".py",
   "mimetype": "text/x-python",
   "name": "python",
   "nbconvert_exporter": "python",
   "pygments_lexer": "ipython2",
   "version": "2.7.13"
  }
 },
 "nbformat": 4,
 "nbformat_minor": 2
}
